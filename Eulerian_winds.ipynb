{
 "cells": [
  {
   "cell_type": "markdown",
   "metadata": {},
   "source": [
    "# Zonally integrated northward Ekman transport"
   ]
  },
  {
   "cell_type": "markdown",
   "metadata": {},
   "source": [
    "This notebook is converted from plt_eulerian_wind.py, which visualizes zonally integrated northward Ekman transport."
   ]
  },
  {
   "cell_type": "markdown",
   "metadata": {},
   "source": [
    "## Last updated 9 October 2017."
   ]
  },
  {
   "cell_type": "code",
   "execution_count": 1,
   "metadata": {
    "collapsed": true
   },
   "outputs": [],
   "source": [
    "import numpy as np\n",
    "import netCDF4 as nc\n",
    "import matplotlib.pyplot as plt"
   ]
  },
  {
   "cell_type": "code",
   "execution_count": 2,
   "metadata": {
    "collapsed": true
   },
   "outputs": [],
   "source": [
    "# wind, coriolis parameter\n",
    "wdx1 = nc.Dataset('/short/v45/lxy581/mom6/input/so_mom6_v33/forcing.nc','r')\n",
    "wdx2 = nc.Dataset('/short/v45/lxy581/mom6/input/so_mom6_v38/forcing.nc','r')\n",
    "wdx3 = nc.Dataset('/short/v45/lxy581/mom6/input/so_mom6_v39/forcing.nc','r')\n",
    "cori = nc.Dataset('/short/v45/lxy581/mom6/archive/so_mom6_v45/output000/ocean_geometry.nc','r')\n",
    "data  = nc.Dataset('/short/v45/lxy581/mom6/archive/so_mom6_v45/output031/prog.nc','r')"
   ]
  },
  {
   "cell_type": "code",
   "execution_count": 3,
   "metadata": {
    "collapsed": true
   },
   "outputs": [],
   "source": [
    "# horizontal resolution in km\n",
    "dx = 10.\n",
    "# zonal distance of the domain in m (4000km)\n",
    "X = 4.0e+6"
   ]
  },
  {
   "cell_type": "code",
   "execution_count": 4,
   "metadata": {
    "collapsed": true
   },
   "outputs": [],
   "source": [
    "# to confirm - reference density\n",
    "rho_0 = 1010.3"
   ]
  },
  {
   "cell_type": "code",
   "execution_count": 5,
   "metadata": {
    "collapsed": true
   },
   "outputs": [],
   "source": [
    "tau1 = wdx1.variables['taux'][:,:]\n",
    "tau2 = wdx2.variables['taux'][:,:]\n",
    "tau3 = wdx3.variables['taux'][:,:]\n",
    "f = cori.variables['f'][:,:]\n",
    "yh = data.variables['yh'][:]   \n",
    "ny = np.size(yh)"
   ]
  },
  {
   "cell_type": "code",
   "execution_count": 6,
   "metadata": {
    "collapsed": true
   },
   "outputs": [],
   "source": [
    "# Ekman transport\n",
    "vh_m1 = np.full((ny),np.nan)\n",
    "vh_m2 = np.full((ny),np.nan)\n",
    "vh_m3 = np.full((ny),np.nan)"
   ]
  },
  {
   "cell_type": "code",
   "execution_count": 7,
   "metadata": {
    "collapsed": true
   },
   "outputs": [],
   "source": [
    "for j in xrange(0,ny):\n",
    "    vh_m1[j] = -tau1[j,0]/rho_0/f[j,0]*X/1.e+6\n",
    "    vh_m2[j] = -tau2[j,0]/rho_0/f[j,0]*X/1.e+6\n",
    "    vh_m3[j] = -tau3[j,0]/rho_0/f[j,0]*X/1.e+6"
   ]
  },
  {
   "cell_type": "code",
   "execution_count": 8,
   "metadata": {
    "collapsed": true
   },
   "outputs": [],
   "source": [
    "%matplotlib inline"
   ]
  },
  {
   "cell_type": "code",
   "execution_count": 9,
   "metadata": {
    "collapsed": false
   },
   "outputs": [
    {
     "data": {
      "image/png": "[encoded data removed]",
      "text/plain": [
       "<matplotlib.figure.Figure at 0x2f9a290>"
      ]
     },
     "metadata": {},
     "output_type": "display_data"
    }
   ],
   "source": [
    "plt.figure(1,figsize=(8,5))\n",
    "plt.plot(yh,vh_m1,linewidth=2.0,linestyle='-',color='k',label=r'$\\mathbf{\\tau_{o}}$=0.1 N m$^{-2}$')\n",
    "plt.plot(yh,vh_m2,linewidth=2.0,linestyle='-.',color='k',label=r'$\\mathbf{\\tau_{o}}$=0.2 N m$^{-2}$')\n",
    "plt.plot(yh,vh_m3,linewidth=2.0,linestyle='--',color='k',label=r'$\\mathbf{\\tau_{o}}$=0.3 N m$^{-2}$')\n",
    "plt.gca().set_xlim([-1250.0,1250.0])\n",
    "plt.gca().set_xticks(np.arange(-1250,1250 + 500,500))\n",
    "plt.gca().set_xticklabels(['0','500','1000','1500','2000','2500'])\n",
    "plt.gca().set_ylim([0,12.0])\n",
    "plt.gca().set_yticks(np.arange(0,12.0 + 3.0,3.0))\n",
    "plt.gca().set_yticklabels(['0','3','6','9','12'])\n",
    "plt.xlabel('Y (km)',fontsize=16)\n",
    "plt.ylabel('Northward transport (Sv)',fontsize=16)\n",
    "plt.xticks(fontsize=16)\n",
    "plt.yticks(fontsize=16)\n",
    "plt.grid(True)\n",
    "plt.gca().set_position([0.15,0.2,0.7,0.6])\n",
    "plt.legend(loc=[0.64,0.6],framealpha=0.3)\n",
    "\n",
    "#plt.savefig('/short/v45/lxy581/mom6/diag/Ekman_winds.png',dpi=600)\n",
    "\n",
    "plt.show()"
   ]
  }
 ],
 "metadata": {
  "kernelspec": {
   "display_name": "Python 2",
   "language": "python",
   "name": "python2"
  },
  "language_info": {
   "codemirror_mode": {
    "name": "ipython",
    "version": 2
   },
   "file_extension": ".py",
   "mimetype": "text/x-python",
   "name": "python",
   "nbconvert_exporter": "python",
   "pygments_lexer": "ipython2",
   "version": "2.7.6"
  }
 },
 "nbformat": 4,
 "nbformat_minor": 0
}
