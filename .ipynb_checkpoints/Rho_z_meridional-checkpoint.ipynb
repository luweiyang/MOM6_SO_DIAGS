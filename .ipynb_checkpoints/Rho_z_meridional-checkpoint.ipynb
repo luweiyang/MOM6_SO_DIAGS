{
 "cells": [
  {
   "cell_type": "markdown",
   "metadata": {},
   "source": [
    "# Time- and zonal- mean in situ density"
   ]
  },
  {
   "cell_type": "markdown",
   "metadata": {},
   "source": [
    "This notebook is converted from plt_rho_z.py, which calculates and plots time- and zonal-mean in situ density."
   ]
  },
  {
   "cell_type": "code",
   "execution_count": 1,
   "metadata": {
    "collapsed": true
   },
   "outputs": [],
   "source": [
    "import numpy as np\n",
    "import netCDF4 as nc\n",
    "import matplotlib.pyplot as plt"
   ]
  },
  {
   "cell_type": "code",
   "execution_count": 2,
   "metadata": {
    "collapsed": true
   },
   "outputs": [],
   "source": [
    "data = nc.Dataset('/short/v45/lxy581/mom6/archive/so_mom6_v33/output028/prog.nc','r')"
   ]
  },
  {
   "cell_type": "code",
   "execution_count": 3,
   "metadata": {
    "collapsed": true
   },
   "outputs": [],
   "source": [
    "xq   = data.variables['xq'][:]   # u\n",
    "yh   = data.variables['yh'][:]   # u,temp,rho\n",
    "xh   = data.variables['xh'][:]   # v,temp,rho\n",
    "zl   = data.variables['zl'][:]   # v\n",
    "t    = data.variables['Time'][:]"
   ]
  },
  {
   "cell_type": "code",
   "execution_count": 4,
   "metadata": {
    "collapsed": true
   },
   "outputs": [],
   "source": [
    "nz = np.size(zl)\n",
    "ny = np.size(yh)\n",
    "nt = np.size(t)"
   ]
  },
  {
   "cell_type": "code",
   "execution_count": 5,
   "metadata": {
    "collapsed": true
   },
   "outputs": [],
   "source": [
    "rho3 = np.zeros((1,nz,ny))\n",
    "rhox = np.full((1,nz,ny),np.nan)"
   ]
  },
  {
   "cell_type": "code",
   "execution_count": 6,
   "metadata": {
    "collapsed": false
   },
   "outputs": [],
   "source": [
    "for k in xrange(0,nt):\n",
    "    #print k\n",
    "    rho  = data.variables['rhoinsitu'][k,:,:,:]\n",
    "\n",
    "    rhox[0,:,:] = np.nanmean(rho,axis=-1) # zonal-mean\n",
    " \n",
    "    rho3 = np.append(rho3,rhox,0)"
   ]
  },
  {
   "cell_type": "code",
   "execution_count": 7,
   "metadata": {
    "collapsed": true
   },
   "outputs": [],
   "source": [
    "rho3 = rho3[1:,:,:]\n",
    "rho2 = np.nanmean(rho3,axis=0)\n",
    "prho = rho2 - 1.e+3"
   ]
  },
  {
   "cell_type": "code",
   "execution_count": 10,
   "metadata": {
    "collapsed": true
   },
   "outputs": [],
   "source": [
    "%matplotlib inline"
   ]
  },
  {
   "cell_type": "code",
   "execution_count": 12,
   "metadata": {
    "collapsed": false
   },
   "outputs": [
    {
     "data": {
      "image/png": "[encoded data removed]",
      "text/plain": [
       "<matplotlib.figure.Figure at 0x4fa8cd0>"
      ]
     },
     "metadata": {},
     "output_type": "display_data"
    }
   ],
   "source": [
    "plt.figure(1,figsize=(8,5))\n",
    "\n",
    "rholev = np.arange(35.6,36.8+0.3,0.3)\n",
    "\n",
    "pc = plt.contour(yh,zl,prho,cmap=plt.cm.jet,levels=rholev)\n",
    "manual_locations = [(750,300),(400,400),(750,900),(750,1400),(750,2400)]\n",
    "plt.clabel(pc,inline=1,fontsize=10,manual=manual_locations)\n",
    "plt.gca().invert_yaxis()\n",
    "plt.gca().set_xticks(np.arange(-1250,1250 + 500,500))\n",
    "plt.gca().set_xticklabels(['0','500','1000','1500','2000','2500'])\n",
    "plt.gca().set_yticks(np.arange(0,4000 + 1000,1000))\n",
    "plt.gca().set_yticklabels(['0','1','2','3','4'])\n",
    "plt.gca().set_position([0.15,0.2,0.70,0.6])\n",
    "plt.title('In situ density ($kg\\ m^{-3}$)',fontsize=16)\n",
    "plt.xlabel('Y (km)',fontsize=16)\n",
    "plt.ylabel('Depth (km)',fontsize=16)\n",
    "plt.xticks(fontsize=16)\n",
    "plt.yticks(fontsize=16)\n",
    "\n",
    "# plt.savefig('/short/v45/lxy581/mom6/diag/v33_merid_rho_y50.png',dpi=600)\n",
    "\n",
    "plt.show()"
   ]
  }
 ],
 "metadata": {
  "kernelspec": {
   "display_name": "Python 2",
   "language": "python",
   "name": "python2"
  },
  "language_info": {
   "codemirror_mode": {
    "name": "ipython",
    "version": 2
   },
   "file_extension": ".py",
   "mimetype": "text/x-python",
   "name": "python",
   "nbconvert_exporter": "python",
   "pygments_lexer": "ipython2",
   "version": "2.7.6"
  }
 },
 "nbformat": 4,
 "nbformat_minor": 0
}
