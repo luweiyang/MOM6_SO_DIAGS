{
 "cells": [
  {
   "cell_type": "markdown",
   "metadata": {},
   "source": [
    "# Time-mean near-bottom stratification"
   ]
  },
  {
   "cell_type": "markdown",
   "metadata": {},
   "source": [
    "This notebook is converted from plt_bot_N.py, which visulizes the time-mean bottom 500m-averaged buoyancy frequency (i.e., stratification) and gives the latitude range of the domain. "
   ]
  },
  {
   "cell_type": "code",
   "execution_count": null,
   "metadata": {
    "collapsed": true
   },
   "outputs": [],
   "source": [
    "import numpy as np\n",
    "import matplotlib.pyplot as plt\n",
    "import scipy.io "
   ]
  },
  {
   "cell_type": "code",
   "execution_count": null,
   "metadata": {
    "collapsed": true
   },
   "outputs": [],
   "source": [
    "mat = scipy.io.loadmat('/short/v45/lxy581/mom6/diag/n2_SO_10_b5_v33_y50_170914.mat')"
   ]
  },
  {
   "cell_type": "code",
   "execution_count": null,
   "metadata": {
    "collapsed": true
   },
   "outputs": [],
   "source": [
    "xh  = mat['xh']\n",
    "yh  = mat['yh']\n",
    "lat = mat['lat']\n",
    "n2s = mat['n2s']"
   ]
  },
  {
   "cell_type": "code",
   "execution_count": null,
   "metadata": {
    "collapsed": true
   },
   "outputs": [],
   "source": [
    "print np.min(lat[0,:])"
   ]
  },
  {
   "cell_type": "code",
   "execution_count": null,
   "metadata": {
    "collapsed": true
   },
   "outputs": [],
   "source": [
    "print np.max(lat[0,:])"
   ]
  },
  {
   "cell_type": "code",
   "execution_count": null,
   "metadata": {
    "collapsed": true
   },
   "outputs": [],
   "source": [
    "ns0 = np.sqrt(n2s)\n",
    "ns0 = np.real(ns0)\n",
    "ns  = np.log10(ns0)\n",
    "ns  = np.transpose(ns)"
   ]
  },
  {
   "cell_type": "code",
   "execution_count": null,
   "metadata": {
    "collapsed": true
   },
   "outputs": [],
   "source": [
    "plt.figure(1,figsize=(8,5))\n",
    "\n",
    "n_level = np.arange(-4,-2+0.01,0.001) \n",
    "n_ticks = np.arange(-4,-2+1,1) \n",
    "\n",
    "X,Y=np.meshgrid(xh,yh)\n",
    "\n",
    "pc = plt.contourf(X,Y,ns,cmap=plt.cm.jet,levels=n_level,extend='both')\n",
    "cb = plt.colorbar(pc,ticks=n_ticks)\n",
    "plt.gca().set_yticks(np.arange(-1250,1250 + 500,500))\n",
    "plt.gca().set_yticklabels(['0','500','1000','1500','2000','2500'])\n",
    "plt.gca().set_xticks(np.arange(-2000,2000 + 1000,1000))\n",
    "plt.gca().set_xticklabels(['0','1000','2000','3000','4000'])\n",
    "plt.gca().set_position([0.15,0.2,0.65,0.6])\n",
    "cb.ax.set_position([0.85,0.2,0.03,0.6])\n",
    "cb.set_label('Bottom Stratification ($log_{10}(s^{-1})$)',y=0.5,fontsize=16)\n",
    "cb.ax.tick_params(labelsize=16)\n",
    "plt.xlabel('X (km)',fontsize=16)\n",
    "plt.ylabel('Y (km)',fontsize=16)\n",
    "plt.xticks(fontsize=16)\n",
    "plt.yticks(fontsize=16)\n",
    "\n",
    "# plt.savefig('/short/v45/lxy581/mom6/diag/v33_y50_b5_N_170907.png',dpi=600)\n",
    "\n",
    "plt.show()"
   ]
  }
 ],
 "metadata": {
  "kernelspec": {
   "display_name": "Python 2",
   "language": "python",
   "name": "python2"
  },
  "language_info": {
   "codemirror_mode": {
    "name": "ipython",
    "version": 2
   },
   "file_extension": ".py",
   "mimetype": "text/x-python",
   "name": "python",
   "nbconvert_exporter": "python",
   "pygments_lexer": "ipython2",
   "version": "2.7.6"
  }
 },
 "nbformat": 4,
 "nbformat_minor": 0
}
