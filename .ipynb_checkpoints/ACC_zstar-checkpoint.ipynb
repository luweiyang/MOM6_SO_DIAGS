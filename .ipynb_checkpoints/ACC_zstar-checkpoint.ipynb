{
 "cells": [
  {
   "cell_type": "markdown",
   "metadata": {},
   "source": [
    "# ACC transport in the depth coordinate"
   ]
  },
  {
   "cell_type": "markdown",
   "metadata": {},
   "source": [
    "This notebook is converted from diag_transport.py, which calculates the ACC transport and plots the vertical distribution of zonal-and-time-mean ACC transport."
   ]
  },
  {
   "cell_type": "code",
   "execution_count": 1,
   "metadata": {
    "collapsed": true
   },
   "outputs": [],
   "source": [
    "import numpy as np\n",
    "import netCDF4 as nc\n",
    "import matplotlib.pyplot as plt\n",
    "import scipy.io"
   ]
  },
  {
   "cell_type": "code",
   "execution_count": 2,
   "metadata": {
    "collapsed": true
   },
   "outputs": [],
   "source": [
    "data  = nc.Dataset('/short/v45/lxy581/mom6/archive/so_mom6_v33/output028/prog.nc','r')\n",
    "coord = nc.Dataset('/short/v45/lxy581/mom6/archive/so_mom6_v33/output028/Vertical_coordinate.nc','r')"
   ]
  },
  {
   "cell_type": "code",
   "execution_count": 3,
   "metadata": {
    "collapsed": true
   },
   "outputs": [],
   "source": [
    "yh = data.variables['yh'][:]\n",
    "xq = data.variables['xq'][:]\n",
    "zl = data.variables['zl'][:]\n",
    "t  = data.variables['Time'][:]"
   ]
  },
  {
   "cell_type": "markdown",
   "metadata": {},
   "source": [
    "Read layer thicknesses in the depth space in meters:"
   ]
  },
  {
   "cell_type": "code",
   "execution_count": 4,
   "metadata": {
    "collapsed": true
   },
   "outputs": [],
   "source": [
    "ds = coord.variables['ds'][:]"
   ]
  },
  {
   "cell_type": "markdown",
   "metadata": {},
   "source": [
    "Horizontal resolution in the Cartesian coordinate:"
   ]
  },
  {
   "cell_type": "code",
   "execution_count": 5,
   "metadata": {
    "collapsed": true
   },
   "outputs": [],
   "source": [
    "dx = 10."
   ]
  },
  {
   "cell_type": "code",
   "execution_count": 6,
   "metadata": {
    "collapsed": true
   },
   "outputs": [],
   "source": [
    "nz = np.size(zl)\n",
    "nx = np.size(xq)\n",
    "ny = np.size(yh)\n",
    "nt = np.size(t)"
   ]
  },
  {
   "cell_type": "code",
   "execution_count": 7,
   "metadata": {
    "collapsed": true
   },
   "outputs": [],
   "source": [
    "acc  = np.zeros((1,nz))\n",
    "acct = np.full((1,nz),np.nan)"
   ]
  },
  {
   "cell_type": "code",
   "execution_count": 8,
   "metadata": {
    "collapsed": false
   },
   "outputs": [
    {
     "name": "stdout",
     "output_type": "stream",
     "text": [
      "0\n",
      "1\n",
      "2\n",
      "3\n",
      "4\n",
      "5\n",
      "6\n",
      "7\n",
      "8\n",
      "9\n",
      "10\n",
      "11\n",
      "12\n",
      "13\n",
      "14\n",
      "15\n",
      "16\n",
      "17\n",
      "18\n",
      "19\n",
      "20\n",
      "21\n",
      "22\n",
      "23\n",
      "24\n",
      "25\n",
      "26\n",
      "27\n",
      "28\n",
      "29\n",
      "30\n",
      "31\n",
      "32\n",
      "33\n",
      "34\n",
      "35\n",
      "36\n",
      "37\n",
      "38\n",
      "39\n",
      "40\n",
      "41\n",
      "42\n",
      "43\n",
      "44\n",
      "45\n",
      "46\n",
      "47\n",
      "48\n",
      "49\n",
      "50\n",
      "51\n",
      "52\n",
      "53\n",
      "54\n",
      "55\n",
      "56\n",
      "57\n",
      "58\n",
      "59\n",
      "60\n",
      "61\n",
      "62\n",
      "63\n",
      "64\n",
      "65\n",
      "66\n",
      "67\n",
      "68\n",
      "69\n",
      "70\n",
      "71\n",
      "72\n"
     ]
    }
   ],
   "source": [
    "for k in xrange(0,nt):\n",
    "    print k\n",
    "\n",
    "    u  = data.variables['u'][k,:,:,:]  # 3D zonal velocity\n",
    "    uz = np.nanmean(u,axis=2)          # get the mean along x-axis, i.e., zonal-mean velocity uz(z,y)\n",
    "    uy = np.nansum(uz,axis=1)          # get the sum along y-axis, i.e., meridional sum velocity uy(z)\n",
    "    uh = uy*ds*dx*1.e+3                # zonal transport uh(z) in m3/s\n",
    "\n",
    "    acct[0,:] = uh\n",
    " \n",
    "    acc = np.append(acc,acct,0)"
   ]
  },
  {
   "cell_type": "markdown",
   "metadata": {},
   "source": [
    "The first dimension of variable acc is time.\n",
    "Variable accm is the time-and-zonal-mean ACC transport as a function of depth. "
   ]
  },
  {
   "cell_type": "code",
   "execution_count": 9,
   "metadata": {
    "collapsed": true
   },
   "outputs": [],
   "source": [
    "acc  = acc[1:,:]\n",
    "accm = np.nanmean(acc,axis=0) # accm(z)"
   ]
  },
  {
   "cell_type": "markdown",
   "metadata": {},
   "source": [
    "Variable acc_sum is the total ACC transport"
   ]
  },
  {
   "cell_type": "code",
   "execution_count": 10,
   "metadata": {
    "collapsed": false
   },
   "outputs": [
    {
     "name": "stdout",
     "output_type": "stream",
     "text": [
      "120.151990856\n"
     ]
    }
   ],
   "source": [
    "acc_sum = np.nansum(accm)     # total transport\n",
    "print acc_sum/1.e+6            # total transport in Sv"
   ]
  },
  {
   "cell_type": "code",
   "execution_count": 12,
   "metadata": {
    "collapsed": true
   },
   "outputs": [],
   "source": [
    "%matplotlib inline"
   ]
  },
  {
   "cell_type": "code",
   "execution_count": 13,
   "metadata": {
    "collapsed": false
   },
   "outputs": [
    {
     "data": {
      "image/png": "[encoded data removed]",
      "text/plain": [
       "<matplotlib.figure.Figure at 0x67cfc90>"
      ]
     },
     "metadata": {},
     "output_type": "display_data"
    }
   ],
   "source": [
    "plt.figure(1,figsize=(5,10))\n",
    "\n",
    "plt.plot(accm,zl,'k',linewidth=2)\n",
    "plt.scatter(accm,zl,color='k')\n",
    "plt.gca().xaxis.set_ticks_position('top')\n",
    "plt.gca().xaxis.set_label_position('top')\n",
    "plt.xlim(-2e+6,8e+6)\n",
    "plt.ylim(0,4000)\n",
    "plt.xticks(np.arange(-2e+6,8e+6+2e+6,2e+6))\n",
    "plt.gca().set_xticklabels(['-2','0','2','4','6','8'])\n",
    "plt.yticks(np.arange(0,4000+1000,1000))\n",
    "plt.gca().set_yticklabels(['0','1','2','3','4'])\n",
    "plt.xticks(fontsize=16)\n",
    "plt.yticks(fontsize=16)\n",
    "plt.gca().invert_yaxis()\n",
    "plt.grid(True)\n",
    "plt.xlabel('Transport (Sv)',fontsize=20)\n",
    "plt.ylabel('Depth (km)',fontsize=20)\n",
    "plt.gca().set_position([0.2,0.1,0.6,0.8])\n",
    "\n",
    "# plt.savefig('/short/v45/lxy581/mom6/diag/v33_y50_acc_z_170907.png',dpi=600)\n",
    "\n",
    "plt.show()"
   ]
  },
  {
   "cell_type": "markdown",
   "metadata": {},
   "source": [
    "Minimum transport throughout the depth in Sv, which turns out to be westward:"
   ]
  },
  {
   "cell_type": "code",
   "execution_count": 15,
   "metadata": {
    "collapsed": false
   },
   "outputs": [
    {
     "name": "stdout",
     "output_type": "stream",
     "text": [
      "-0.000309834466287\n"
     ]
    }
   ],
   "source": [
    "print np.min(accm/1.e+6) "
   ]
  },
  {
   "cell_type": "markdown",
   "metadata": {},
   "source": [
    "Maximum transport throughout the depth in Sv:"
   ]
  },
  {
   "cell_type": "code",
   "execution_count": 16,
   "metadata": {
    "collapsed": false
   },
   "outputs": [
    {
     "name": "stdout",
     "output_type": "stream",
     "text": [
      "5.07023978259\n"
     ]
    }
   ],
   "source": [
    "print np.max(accm/1.e+6)"
   ]
  }
 ],
 "metadata": {
  "kernelspec": {
   "display_name": "Python 2",
   "language": "python",
   "name": "python2"
  },
  "language_info": {
   "codemirror_mode": {
    "name": "ipython",
    "version": 2
   },
   "file_extension": ".py",
   "mimetype": "text/x-python",
   "name": "python",
   "nbconvert_exporter": "python",
   "pygments_lexer": "ipython2",
   "version": "2.7.6"
  }
 },
 "nbformat": 4,
 "nbformat_minor": 0
}
