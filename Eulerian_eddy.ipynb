{
 "cells": [
  {
   "cell_type": "markdown",
   "metadata": {},
   "source": [
    "# Eddy-driven overturning streamfunction"
   ]
  },
  {
   "cell_type": "markdown",
   "metadata": {},
   "source": [
    "This notebook is converted from plt_eulerian_eddy.py, which tries to calculate and visualize streamfunction of eddy-driven overturning."
   ]
  },
  {
   "cell_type": "markdown",
   "metadata": {},
   "source": [
    "## Last updated 9 October 2017."
   ]
  },
  {
   "cell_type": "code",
   "execution_count": 1,
   "metadata": {
    "collapsed": true
   },
   "outputs": [],
   "source": [
    "import numpy as np\n",
    "import netCDF4 as nc\n",
    "import matplotlib.pyplot as plt"
   ]
  },
  {
   "cell_type": "markdown",
   "metadata": {},
   "source": [
    " v45 - wdx1: output017 (y50)  wdx2: output024 (y65) wdx3: output031 (y80)\n",
    " \n",
    " v57 - wdx1: output013 (y50)  wdx2: output020 (y65) wdx3: output027 (y80) \n",
    " \n",
    " v59 - wdx1: output013 (y50)  wdx2: output020 (y65) wdx3: output027 (y80) "
   ]
  },
  {
   "cell_type": "code",
   "execution_count": 2,
   "metadata": {
    "collapsed": true
   },
   "outputs": [],
   "source": [
    "# wind, coriolis parameter\n",
    "forc = nc.Dataset('/short/v45/lxy581/mom6/input/so_mom6_v39/forcing.nc','r')\n",
    "cori = nc.Dataset('/short/v45/lxy581/mom6/archive/so_mom6_v45/output000/ocean_geometry.nc','r')\n",
    "data  = nc.Dataset('/short/v45/lxy581/mom6/archive/so_mom6_v45/output031/prog.nc','r')\n",
    "coord = nc.Dataset('/short/v45/lxy581/mom6/archive/so_mom6_v45/output031/Vertical_coordinate.nc','r')"
   ]
  },
  {
   "cell_type": "code",
   "execution_count": 3,
   "metadata": {
    "collapsed": true
   },
   "outputs": [],
   "source": [
    "xh = data.variables['xh'][:]\n",
    "yh = data.variables['yh'][:]   \n",
    "zl = data.variables['zl'][:]\n",
    "t  = data.variables['Time'][:]"
   ]
  },
  {
   "cell_type": "code",
   "execution_count": 4,
   "metadata": {
    "collapsed": true
   },
   "outputs": [],
   "source": [
    "nx = np.size(xh)\n",
    "ny = np.size(yh)\n",
    "nz = np.size(zl)\n",
    "nt = np.size(t)"
   ]
  },
  {
   "cell_type": "code",
   "execution_count": 5,
   "metadata": {
    "collapsed": true
   },
   "outputs": [],
   "source": [
    "# horizontal resolution in km\n",
    "dx = 10.\n",
    "# zonal distance of the domain in m (4000km)\n",
    "X = 4.0e+6"
   ]
  },
  {
   "cell_type": "code",
   "execution_count": 6,
   "metadata": {
    "collapsed": true
   },
   "outputs": [],
   "source": [
    "# layer thicknesses in m\n",
    "ds = coord.variables['ds'][:]\n",
    "# create a numpy array repetitive of ds\n",
    "ds2 = np.full((nz,ny),np.nan)\n",
    "for j in xrange(0,ny):\n",
    "    ds2[:,j]=ds[:]\n",
    "\n",
    "dx2 = np.full((nz,ny),dx)"
   ]
  },
  {
   "cell_type": "markdown",
   "metadata": {},
   "source": [
    "##Residual overturning - vhmc (MOC_vh_z.ipynb)"
   ]
  },
  {
   "cell_type": "code",
   "execution_count": 7,
   "metadata": {
    "collapsed": false
   },
   "outputs": [
    {
     "name": "stderr",
     "output_type": "stream",
     "text": [
      "/apps/python/2.7.6/lib/python2.7/site-packages/numpy/lib/nanfunctions.py:514: FutureWarning: In Numpy 1.9 the sum along empty slices will be zero.\n",
      "  FutureWarning)\n",
      "/apps/python/2.7.6/lib/python2.7/site-packages/numpy/lib/nanfunctions.py:607: RuntimeWarning: Mean of empty slice\n",
      "  warnings.warn(\"Mean of empty slice\", RuntimeWarning)\n"
     ]
    }
   ],
   "source": [
    "vh = np.zeros((1,nz,ny))\n",
    "vht= np.full((1,nz,ny),np.nan)\n",
    "\n",
    "for k in xrange(0,nt):\n",
    "    v  = data.variables['v'][k,:,:,:]   # 3D zonal velocity\n",
    "    v  = v.filled(np.nan)\n",
    "    vz = np.nansum(v,axis=2)            # zonal-sum velocity vz(z,y)\n",
    "    mt = vz*ds2*dx2/1.e+3               # meridional transport vh(z,y) in Sv\n",
    "\n",
    "    vht[0,:,:] = mt\n",
    "    vh = np.append(vh,vht,0)\n",
    "\n",
    "vh = vh[1:,:,:]\n",
    "vhm = np.nanmean(vh,axis=0)\n",
    "vhmc = vhm[::-1,...].cumsum(axis=0)[::-1,...] # cumulative integral from the bottom"
   ]
  },
  {
   "cell_type": "code",
   "execution_count": 8,
   "metadata": {
    "collapsed": true
   },
   "outputs": [],
   "source": [
    "# to confirm - reference density\n",
    "rho_0 = 1010.3"
   ]
  },
  {
   "cell_type": "code",
   "execution_count": 9,
   "metadata": {
    "collapsed": true
   },
   "outputs": [],
   "source": [
    "taux = forc.variables['taux'][:,:]\n",
    "f = cori.variables['f'][:,:]"
   ]
  },
  {
   "cell_type": "markdown",
   "metadata": {},
   "source": [
    "## Wind-driven overturning - vh_m"
   ]
  },
  {
   "cell_type": "code",
   "execution_count": 10,
   "metadata": {
    "collapsed": true
   },
   "outputs": [],
   "source": [
    "# Eulerian streamfunction\n",
    "vh_m = np.full((nz,ny),np.nan)\n",
    "\n",
    "for j in xrange(0,ny):\n",
    "    vh_m[:,j] = -taux[j,0]/rho_0/f[j,0]*X/1.e+6"
   ]
  },
  {
   "cell_type": "markdown",
   "metadata": {},
   "source": [
    "## Eddy-driven overturning - vh_e"
   ]
  },
  {
   "cell_type": "code",
   "execution_count": 11,
   "metadata": {
    "collapsed": true
   },
   "outputs": [],
   "source": [
    "vh_e = vhmc - vh_m"
   ]
  },
  {
   "cell_type": "code",
   "execution_count": 12,
   "metadata": {
    "collapsed": true
   },
   "outputs": [],
   "source": [
    "%matplotlib inline"
   ]
  },
  {
   "cell_type": "code",
   "execution_count": 18,
   "metadata": {
    "collapsed": false
   },
   "outputs": [
    {
     "data": {
      "text/plain": [
       "(array([   0, 1000, 2000, 3000, 4000]), <a list of 5 Text yticklabel objects>)"
      ]
     },
     "execution_count": 18,
     "metadata": {},
     "output_type": "execute_result"
    },
    {
     "data": {
      "image/png": "[encoded data removed]",
      "text/plain": [
       "<matplotlib.figure.Figure at 0x5539210>"
      ]
     },
     "metadata": {},
     "output_type": "display_data"
    }
   ],
   "source": [
    "plt.figure(1,figsize=(8,5))\n",
    "\n",
    "#vh_level = np.arange(-12,12 + 1.0,1.0)\n",
    "#vh_ticks = np.arange(-12,12 + 6.0,6.0)\n",
    "vh_level = np.arange(-20,20 + 1.0,1.0)\n",
    "vh_ticks = np.arange(-20,20 + 10.0,10.0)\n",
    "\n",
    "pcf = plt.contourf(yh,zl,vh_m,cmap=plt.cm.bwr,levels=vh_level,extend='both')\n",
    "plt.plot([1150,1150],[0,4000],linewidth=2.0,linestyle='--',color='k')\n",
    "cb = plt.colorbar(pcf,ticks=vh_ticks)\n",
    "plt.gca().invert_yaxis()\n",
    "plt.gca().set_xticks(np.arange(-1250,1250 + 500,500))\n",
    "plt.gca().set_xticklabels(['0','500','1000','1500','2000','2500'])\n",
    "plt.gca().set_yticks(np.arange(0,4000 + 1000,1000))\n",
    "plt.gca().set_yticklabels(['0','1','2','3','4'])\n",
    "plt.gca().set_position([0.15,0.2,0.65,0.6])\n",
    "cb.ax.set_position([0.85,0.2,0.03,0.6])\n",
    "cb.set_label('Eulerian streamfunction (Sv)',y=0.5,fontsize=16)\n",
    "cb.ax.tick_params(labelsize=16)\n",
    "plt.xlabel('Y (km)',fontsize=16)\n",
    "plt.ylabel('Depth (km)',fontsize=16)\n",
    "plt.xticks(fontsize=16)\n",
    "plt.yticks(fontsize=16)\n",
    "\n",
    "#plt.savefig('/short/v45/lxy581/mom6/diag/Eulerian_wdx3.png',dpi=600)"
   ]
  },
  {
   "cell_type": "code",
   "execution_count": 19,
   "metadata": {
    "collapsed": false
   },
   "outputs": [
    {
     "data": {
      "image/png": "[encoded data removed]",
      "text/plain": [
       "<matplotlib.figure.Figure at 0x567fbd0>"
      ]
     },
     "metadata": {},
     "output_type": "display_data"
    }
   ],
   "source": [
    "plt.figure(2,figsize=(8,5))\n",
    "\n",
    "vh_level = np.arange(-20,20 + 1.0,1.0)\n",
    "vh_ticks = np.arange(-20,20 + 10.0,10.0)\n",
    "\n",
    "pcf = plt.contourf(yh,zl,vh_e,cmap=plt.cm.bwr,levels=vh_level,extend='both')\n",
    "plt.plot([1150,1150],[0,4000],linewidth=2.0,linestyle='--',color='k')\n",
    "cb = plt.colorbar(pcf,ticks=vh_ticks)\n",
    "plt.gca().invert_yaxis()\n",
    "plt.gca().set_xticks(np.arange(-1250,1250 + 500,500))\n",
    "plt.gca().set_xticklabels(['0','500','1000','1500','2000','2500'])\n",
    "plt.gca().set_yticks(np.arange(0,4000 + 1000,1000))\n",
    "plt.gca().set_yticklabels(['0','1','2','3','4'])\n",
    "plt.gca().set_position([0.15,0.2,0.65,0.6])\n",
    "cb.ax.set_position([0.85,0.2,0.03,0.6])\n",
    "cb.set_label('Eulerian streamfunction (Sv)',y=0.5,fontsize=16)\n",
    "cb.ax.tick_params(labelsize=16)\n",
    "plt.xlabel('Y (km)',fontsize=16)\n",
    "plt.ylabel('Depth (km)',fontsize=16)\n",
    "plt.xticks(fontsize=16)\n",
    "plt.yticks(fontsize=16)\n",
    "\n",
    "#plt.savefig('/short/v45/lxy581/mom6/diag/v45_eddy_y80_wdx3.png',dpi=600)\n",
    "\n",
    "plt.show()"
   ]
  }
 ],
 "metadata": {
  "kernelspec": {
   "display_name": "Python 2",
   "language": "python",
   "name": "python2"
  },
  "language_info": {
   "codemirror_mode": {
    "name": "ipython",
    "version": 2
   },
   "file_extension": ".py",
   "mimetype": "text/x-python",
   "name": "python",
   "nbconvert_exporter": "python",
   "pygments_lexer": "ipython2",
   "version": "2.7.6"
  }
 },
 "nbformat": 4,
 "nbformat_minor": 0
}
