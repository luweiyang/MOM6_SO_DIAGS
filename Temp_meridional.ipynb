{
 "cells": [
  {
   "cell_type": "markdown",
   "metadata": {},
   "source": [
    "# Time- and zonal-mean temperature"
   ]
  },
  {
   "cell_type": "markdown",
   "metadata": {},
   "source": [
    "This notebook is coverted from plt_meridional.py, which plots time- and zonal-mean temperature. "
   ]
  },
  {
   "cell_type": "code",
   "execution_count": 1,
   "metadata": {
    "collapsed": true
   },
   "outputs": [],
   "source": [
    "import numpy as np\n",
    "import netCDF4 as nc\n",
    "import matplotlib.pyplot as plt"
   ]
  },
  {
   "cell_type": "code",
   "execution_count": 2,
   "metadata": {
    "collapsed": true
   },
   "outputs": [],
   "source": [
    "data = nc.Dataset('/short/v45/lxy581/mom6/archive/so_mom6_v33/output028/prog.nc','r')"
   ]
  },
  {
   "cell_type": "code",
   "execution_count": 3,
   "metadata": {
    "collapsed": true
   },
   "outputs": [],
   "source": [
    "xh = data.variables['xh'][:]   # v,temp\n",
    "yh = data.variables['yh'][:]   # u,temp\n",
    "zl = data.variables['zl'][:]\n",
    "t  = data.variables['Time'][:]"
   ]
  },
  {
   "cell_type": "code",
   "execution_count": 4,
   "metadata": {
    "collapsed": true
   },
   "outputs": [],
   "source": [
    "nz = np.size(zl)\n",
    "nx = np.size(xh)\n",
    "ny = np.size(yh)\n",
    "nt = np.size(t)"
   ]
  },
  {
   "cell_type": "code",
   "execution_count": 5,
   "metadata": {
    "collapsed": true
   },
   "outputs": [],
   "source": [
    "temp3 = np.zeros((1,nz,ny))\n",
    "tempx = np.full((1,nz,ny),np.nan)"
   ]
  },
  {
   "cell_type": "code",
   "execution_count": 6,
   "metadata": {
    "collapsed": false
   },
   "outputs": [
    {
     "name": "stdout",
     "output_type": "stream",
     "text": [
      "0\n",
      "1\n",
      "2\n",
      "3\n",
      "4\n",
      "5\n",
      "6\n",
      "7\n",
      "8\n",
      "9\n",
      "10\n",
      "11\n",
      "12\n",
      "13\n",
      "14\n",
      "15\n",
      "16\n",
      "17\n",
      "18\n",
      "19\n",
      "20\n",
      "21\n",
      "22\n",
      "23\n",
      "24\n",
      "25\n",
      "26\n",
      "27\n",
      "28\n",
      "29\n",
      "30\n",
      "31\n",
      "32\n",
      "33\n",
      "34\n",
      "35\n",
      "36\n",
      "37\n",
      "38\n",
      "39\n",
      "40\n",
      "41\n",
      "42\n",
      "43\n",
      "44\n",
      "45\n",
      "46\n",
      "47\n",
      "48\n",
      "49\n",
      "50\n",
      "51\n",
      "52\n",
      "53\n",
      "54\n",
      "55\n",
      "56\n",
      "57\n",
      "58\n",
      "59\n",
      "60\n",
      "61\n",
      "62\n",
      "63\n",
      "64\n",
      "65\n",
      "66\n",
      "67\n",
      "68\n",
      "69\n",
      "70\n",
      "71\n",
      "72\n"
     ]
    }
   ],
   "source": [
    "for k in xrange(0,nt):\n",
    "    print k\n",
    "    temp  = data.variables['temp'][k,:,:,:]\n",
    "\n",
    "    tempx[0,:,:] = np.nanmean(temp,axis=-1) # zonal-mean\n",
    " \n",
    "    temp3 = np.append(temp3,tempx,0)"
   ]
  },
  {
   "cell_type": "code",
   "execution_count": 10,
   "metadata": {
    "collapsed": true
   },
   "outputs": [],
   "source": [
    "temp3 = temp3[1:,:,:]\n",
    "temp2 = np.nanmean(temp3,axis=0)"
   ]
  },
  {
   "cell_type": "code",
   "execution_count": 11,
   "metadata": {
    "collapsed": true
   },
   "outputs": [],
   "source": [
    "%matplotlib inline"
   ]
  },
  {
   "cell_type": "code",
   "execution_count": 12,
   "metadata": {
    "collapsed": false
   },
   "outputs": [
    {
     "data": {
      "image/png": "[encoded data removed]",
      "text/plain": [
       "<matplotlib.figure.Figure at 0x29b7b10>"
      ]
     },
     "metadata": {},
     "output_type": "display_data"
    }
   ],
   "source": [
    "plt.figure(1,figsize=(8,5))\n",
    "\n",
    "t_level = np.arange(0,12+0.1,0.1)\n",
    "t_ticks = np.arange(0,12+4,4)\n",
    "\n",
    "pc3 = plt.contourf(yh,zl,temp2,cmap=plt.cm.jet,levels=t_level,extend='both')\n",
    "c3 = plt.colorbar(pc3,ticks=t_ticks)\n",
    "plt.gca().invert_yaxis()\n",
    "plt.gca().set_xticks(np.arange(-1250,1250 + 500,500))\n",
    "plt.gca().set_xticklabels(['0','500','1000','1500','2000','2500'])\n",
    "plt.gca().set_yticks(np.arange(0,4000 + 1000,1000))\n",
    "plt.gca().set_yticklabels(['0','1','2','3','4'])\n",
    "plt.gca().set_position([0.15,0.2,0.65,0.6])\n",
    "c3.ax.set_position([0.85,0.2,0.03,0.6])\n",
    "c3.set_label('temp ($^\\circ$C)',y=0.5,fontsize=16)\n",
    "c3.ax.tick_params(labelsize=16)\n",
    "plt.xlabel('Y (km)',fontsize=16)\n",
    "plt.ylabel('Depth (km)',fontsize=16)\n",
    "plt.xticks(fontsize=16)\n",
    "plt.yticks(fontsize=16)\n",
    "\n",
    "# plt.savefig('/short/v45/lxy581/mom6/diag/v33_merid_temp_y50.png',dpi=600)\n",
    "\n",
    "plt.show()"
   ]
  }
 ],
 "metadata": {
  "kernelspec": {
   "display_name": "Python 2",
   "language": "python",
   "name": "python2"
  },
  "language_info": {
   "codemirror_mode": {
    "name": "ipython",
    "version": 2
   },
   "file_extension": ".py",
   "mimetype": "text/x-python",
   "name": "python",
   "nbconvert_exporter": "python",
   "pygments_lexer": "ipython2",
   "version": "2.7.6"
  }
 },
 "nbformat": 4,
 "nbformat_minor": 0
}
