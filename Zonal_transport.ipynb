{
 "cells": [
  {
   "cell_type": "markdown",
   "metadata": {},
   "source": [
    "# Zonal transport in the depth coordinate"
   ]
  },
  {
   "cell_type": "markdown",
   "metadata": {},
   "source": [
    "This notebook is converted from diag_transport.py, which calculates the barotropic and baroclinic components of zonal transport."
   ]
  },
  {
   "cell_type": "markdown",
   "metadata": {},
   "source": [
    "## Last updated 9 October 2017."
   ]
  },
  {
   "cell_type": "code",
   "execution_count": 1,
   "metadata": {
    "collapsed": true
   },
   "outputs": [],
   "source": [
    "import numpy as np\n",
    "import netCDF4 as nc\n",
    "import matplotlib.pyplot as plt"
   ]
  },
  {
   "cell_type": "markdown",
   "metadata": {},
   "source": [
    "v45 - wdx1: output017 (y50)  wdx2: output024 (y65) wdx3: output031 (y80)\n",
    "\n",
    "v57 - wdx1: output013 (y50)  wdx2: output020 (y65) wdx3: output027 (y80) \n",
    "\n",
    "v59 - wdx1: output013 (y50)  wdx2: output020 (y65) wdx3: output027 (y80) "
   ]
  },
  {
   "cell_type": "code",
   "execution_count": 2,
   "metadata": {
    "collapsed": true
   },
   "outputs": [],
   "source": [
    "data  = nc.Dataset('/short/v45/lxy581/mom6/archive/so_mom6_v45/output031/prog.nc','r')\n",
    "coord = nc.Dataset('/short/v45/lxy581/mom6/archive/so_mom6_v45/output031/Vertical_coordinate.nc','r')"
   ]
  },
  {
   "cell_type": "code",
   "execution_count": 3,
   "metadata": {
    "collapsed": true
   },
   "outputs": [],
   "source": [
    "yh = data.variables['yh'][:]\n",
    "xq = data.variables['xq'][:]\n",
    "zl = data.variables['zl'][:]\n",
    "t  = data.variables['Time'][:]"
   ]
  },
  {
   "cell_type": "markdown",
   "metadata": {},
   "source": [
    "Read layer thicknesses in the depth space in meters:"
   ]
  },
  {
   "cell_type": "code",
   "execution_count": 4,
   "metadata": {
    "collapsed": true
   },
   "outputs": [],
   "source": [
    "ds = coord.variables['ds'][:]"
   ]
  },
  {
   "cell_type": "markdown",
   "metadata": {},
   "source": [
    "Horizontal resolution (km) in the Cartesian coordinate:"
   ]
  },
  {
   "cell_type": "code",
   "execution_count": 5,
   "metadata": {
    "collapsed": true
   },
   "outputs": [],
   "source": [
    "dx = 10."
   ]
  },
  {
   "cell_type": "code",
   "execution_count": 6,
   "metadata": {
    "collapsed": true
   },
   "outputs": [],
   "source": [
    "nz = np.size(zl)\n",
    "nx = np.size(xq)\n",
    "ny = np.size(yh)\n",
    "nt = np.size(t)"
   ]
  },
  {
   "cell_type": "code",
   "execution_count": 7,
   "metadata": {
    "collapsed": true
   },
   "outputs": [],
   "source": [
    "acc  = np.zeros((1,nz))\n",
    "acct = np.full((1,nz),np.nan)\n",
    "vel  = np.zeros((1,nz))\n",
    "velt = np.full((1,nz),np.nan)"
   ]
  },
  {
   "cell_type": "code",
   "execution_count": 8,
   "metadata": {
    "collapsed": false
   },
   "outputs": [],
   "source": [
    "for k in xrange(0,nt):\n",
    "    u  = data.variables['u'][k,:,:,:]  # 3D zonal velocity\n",
    "    uz = np.nanmean(u,axis=2)          # zonal mean uz(z,y)\n",
    "    uy = np.nansum(uz,axis=1)          # meridional sum uy(z)\n",
    "    uh = uy*ds*dx*1.e+3                # zonal transport uh(z) in m3/s\n",
    "\n",
    "    velt[0,:] = uy\n",
    "    acct[0,:] = uh\n",
    "    \n",
    "    vel = np.append(vel,velt,0)\n",
    "    acc = np.append(acc,acct,0)"
   ]
  },
  {
   "cell_type": "markdown",
   "metadata": {},
   "source": [
    "The first dimension of variable vel (and acc) is time.\n",
    "Variable velm (accm) is the time-and-zonal-mean zonal velocity (transport) as a function of depth. "
   ]
  },
  {
   "cell_type": "code",
   "execution_count": 9,
   "metadata": {
    "collapsed": true
   },
   "outputs": [],
   "source": [
    "vel  = vel[1:,:]\n",
    "acc  = acc[1:,:]\n",
    "velm = np.nanmean(vel,axis=0) # velm(z)\n",
    "accm = np.nanmean(acc,axis=0) # accm(z)"
   ]
  },
  {
   "cell_type": "markdown",
   "metadata": {},
   "source": [
    "##Total transport (Sv)"
   ]
  },
  {
   "cell_type": "code",
   "execution_count": 10,
   "metadata": {
    "collapsed": false
   },
   "outputs": [
    {
     "name": "stdout",
     "output_type": "stream",
     "text": [
      "105.7777187\n"
     ]
    }
   ],
   "source": [
    "acc_tt = np.nansum(accm)\n",
    "print acc_tt/1.e+6"
   ]
  },
  {
   "cell_type": "markdown",
   "metadata": {},
   "source": [
    "## Barotropic transport (Sv)"
   ]
  },
  {
   "cell_type": "code",
   "execution_count": 11,
   "metadata": {
    "collapsed": false
   },
   "outputs": [
    {
     "name": "stdout",
     "output_type": "stream",
     "text": [
      "4.68612556384\n"
     ]
    }
   ],
   "source": [
    "acc_bt = np.nansum(np.nanmin(velm)*ds*dx*1.e+3)\n",
    "print acc_bt/1.e+6"
   ]
  },
  {
   "cell_type": "markdown",
   "metadata": {},
   "source": [
    "##Baroclinic transport (Sv)"
   ]
  },
  {
   "cell_type": "code",
   "execution_count": 12,
   "metadata": {
    "collapsed": false
   },
   "outputs": [
    {
     "name": "stdout",
     "output_type": "stream",
     "text": [
      "101.091593136\n"
     ]
    }
   ],
   "source": [
    "vel_bc = velm - np.nanmin(velm)\n",
    "acc_bc = np.nansum(vel_bc*ds*dx*1.e+3)\n",
    "print acc_bc/1.e+6"
   ]
  }
 ],
 "metadata": {
  "kernelspec": {
   "display_name": "Python 2",
   "language": "python",
   "name": "python2"
  },
  "language_info": {
   "codemirror_mode": {
    "name": "ipython",
    "version": 2
   },
   "file_extension": ".py",
   "mimetype": "text/x-python",
   "name": "python",
   "nbconvert_exporter": "python",
   "pygments_lexer": "ipython2",
   "version": "2.7.6"
  }
 },
 "nbformat": 4,
 "nbformat_minor": 0
}
