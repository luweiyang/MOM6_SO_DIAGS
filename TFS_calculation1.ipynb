{
 "cells": [
  {
   "cell_type": "markdown",
   "metadata": {},
   "source": [
    "Calculate the topographic form stress."
   ]
  },
  {
   "cell_type": "code",
   "execution_count": 2,
   "metadata": {
    "collapsed": true
   },
   "outputs": [],
   "source": [
    "import numpy as np\n",
    "import netCDF4 as nc\n",
    "import matplotlib.pyplot as plt\n",
    "from scipy import interpolate"
   ]
  },
  {
   "cell_type": "markdown",
   "metadata": {},
   "source": [
    "Read bottom index."
   ]
  },
  {
   "cell_type": "code",
   "execution_count": 3,
   "metadata": {
    "collapsed": true
   },
   "outputs": [],
   "source": [
    "bottom = nc.Dataset('/short/v45/lxy581/mom6/diag/find_bottom_index.nc','r')\n",
    "\n",
    "bot_u = bottom.variables['bot_u'][:,:]\n",
    "bot_v = bottom.variables['bot_v'][:,:]\n",
    "bot_c = bottom.variables['bot_c'][:,:]\n",
    "bot_t = bottom.variables['bot_t'][:,:]"
   ]
  },
  {
   "cell_type": "markdown",
   "metadata": {},
   "source": [
    "Read wind stress from input file."
   ]
  },
  {
   "cell_type": "code",
   "execution_count": 4,
   "metadata": {
    "collapsed": true
   },
   "outputs": [],
   "source": [
    "forcing = nc.Dataset('/short/v45/lxy581/mom6/input/exp1_w2/forcing.nc','r') \n",
    "taux = forcing.variables['taux'][:,0]"
   ]
  },
  {
   "cell_type": "markdown",
   "metadata": {},
   "source": [
    "Read topography"
   ]
  },
  {
   "cell_type": "code",
   "execution_count": 5,
   "metadata": {
    "collapsed": true
   },
   "outputs": [],
   "source": [
    "topog = nc.Dataset('/short/v45/lxy581/mom6/input/exp1_w2/topog.nc','r')"
   ]
  },
  {
   "cell_type": "markdown",
   "metadata": {},
   "source": [
    "Read output - exp1w2, C$_{d}$ = 0.003, $\\tau_x$ = 0.2 N m$^{-2}$."
   ]
  },
  {
   "cell_type": "code",
   "execution_count": 6,
   "metadata": {
    "collapsed": true
   },
   "outputs": [],
   "source": [
    "data12 = nc.Dataset('/g/data1/v45/lxy581/payu/archive/exp1_w2/output015/prog.nc','r')"
   ]
  },
  {
   "cell_type": "markdown",
   "metadata": {},
   "source": [
    "Basic variables:"
   ]
  },
  {
   "cell_type": "code",
   "execution_count": 7,
   "metadata": {
    "collapsed": true
   },
   "outputs": [],
   "source": [
    "xh   = data12.variables['xh'][:]\n",
    "yh   = data12.variables['yh'][:]\n",
    "xq   = data12.variables['xq'][:]\n",
    "yq   = data12.variables['yq'][:]\n",
    "zl   = data12.variables['zl'][:]\n",
    "time = data12.variables['Time'][:]\n",
    "pbo12_xy = np.nanmean(data12.variables['pbo'][:,:,:],axis=0)\n",
    "nt   = np.size(time)\n",
    "ny   = np.size(yh)\n",
    "nx   = np.size(xh)\n",
    "nz   = np.size(zl)\n",
    "dx   = 1e+4 # 10km\n",
    "Lx   = 4e+6 # 4000km"
   ]
  },
  {
   "cell_type": "markdown",
   "metadata": {},
   "source": [
    "Intermediate variables:"
   ]
  },
  {
   "cell_type": "code",
   "execution_count": 8,
   "metadata": {
    "collapsed": true
   },
   "outputs": [],
   "source": [
    "h_u     = np.full((ny,nx),np.nan)\n",
    "h_t     = np.full((ny,nx),np.nan)\n",
    "h_c     = np.full((ny,nx),np.nan)\n",
    "dhdx_u  = np.full((ny,nx),np.nan)\n",
    "dhdx_t  = np.full((ny,nx),np.nan)\n",
    "dhdx_v  = np.full((ny,nx),np.nan)\n",
    "u12_bot = np.full((ny,nx),np.nan)\n",
    "v12_bot = np.full((ny,nx),np.nan)\n",
    "TFS12   = np.full((ny,nx),np.nan)"
   ]
  },
  {
   "cell_type": "markdown",
   "metadata": {},
   "source": [
    "h_t is the depth at T(xh,yh) points."
   ]
  },
  {
   "cell_type": "code",
   "execution_count": 9,
   "metadata": {
    "collapsed": true
   },
   "outputs": [],
   "source": [
    "h_t = - topog.variables['depth'][:,:]  "
   ]
  },
  {
   "cell_type": "markdown",
   "metadata": {},
   "source": [
    "Interpolate to get depth at u(xq,yh), v(xh,yq), corner(xq,yq) points. Corner points are where PV is. "
   ]
  },
  {
   "cell_type": "code",
   "execution_count": 10,
   "metadata": {
    "collapsed": true
   },
   "outputs": [],
   "source": [
    "f = interpolate.interp2d(xh,yh,h_t,kind='cubic')\n",
    "h_u = f(xq,yh)\n",
    "h_v = f(xh,yq)\n",
    "h_c = f(xq,yq)"
   ]
  },
  {
   "cell_type": "markdown",
   "metadata": {},
   "source": [
    "Use depth at u(xq,yh) points to calculate $\\frac{\\partial h}{\\partial x}$ at T(xh,yh) points."
   ]
  },
  {
   "cell_type": "code",
   "execution_count": 11,
   "metadata": {
    "collapsed": true
   },
   "outputs": [],
   "source": [
    "dhdx_t[:,0] = (h_u[:,0]-h_u[:,nx-1])/dx\n",
    "for i in xrange(nx-1):\n",
    "    dhdx_t[:,i+1] = (h_u[:,i+1] - h_u[:,i])/dx    "
   ]
  },
  {
   "cell_type": "markdown",
   "metadata": {},
   "source": [
    "Use depth at T(xh,yh) points to calculate $\\frac{\\partial h}{\\partial x}$ at u(xq,yh) points."
   ]
  },
  {
   "cell_type": "code",
   "execution_count": 12,
   "metadata": {
    "collapsed": true
   },
   "outputs": [],
   "source": [
    "dhdx_u[:,nx-1] = (h_t[:,0]-h_t[:,nx-1])/dx\n",
    "for i in xrange(nx-2):\n",
    "    dhdx_u[:,i] = (h_t[:,i+1] - h_t[:,i])/dx    "
   ]
  },
  {
   "cell_type": "markdown",
   "metadata": {},
   "source": [
    "Use depth at corner(xq,yq) points to calculate $\\frac{\\partial h}{\\partial x}$ at v(xh,yq) points."
   ]
  },
  {
   "cell_type": "code",
   "execution_count": 13,
   "metadata": {
    "collapsed": true
   },
   "outputs": [],
   "source": [
    "dhdx_v[:,0] = (h_c[:,0]-h_c[:,nx-1])/dx\n",
    "for i in xrange(nx-1):\n",
    "    dhdx_v[:,i+1] = (h_c[:,i+1] - h_c[:,i])/dx    "
   ]
  },
  {
   "cell_type": "markdown",
   "metadata": {},
   "source": [
    "Calculate topographic form stress:"
   ]
  },
  {
   "cell_type": "code",
   "execution_count": 14,
   "metadata": {
    "collapsed": true
   },
   "outputs": [],
   "source": [
    "pbo12 = pbo12_xy * dhdx_t\n",
    "pbo12_yh = np.nansum(pbo12,axis=1) * dx"
   ]
  },
  {
   "cell_type": "markdown",
   "metadata": {},
   "source": [
    "Quadratic bottom frictional drag"
   ]
  },
  {
   "cell_type": "code",
   "execution_count": 16,
   "metadata": {
    "collapsed": false
   },
   "outputs": [],
   "source": [
    "for j in xrange(ny):\n",
    "    for i in xrange(nx):\n",
    "        u12_bot[j,i] = data12.variables['u'][-1,bot_u[j,i],j,i]\n",
    "\n",
    "cd12 = 0.003\n",
    "rho0 = 1035.0\n",
    "bfr12 = rho0*cd12*u12_bot**2*dx "
   ]
  },
  {
   "cell_type": "code",
   "execution_count": 19,
   "metadata": {
    "collapsed": true
   },
   "outputs": [],
   "source": [
    "bfr12_yh = np.nansum(bfr12,axis=1)"
   ]
  },
  {
   "cell_type": "markdown",
   "metadata": {},
   "source": [
    "Plot"
   ]
  },
  {
   "cell_type": "code",
   "execution_count": 17,
   "metadata": {
    "collapsed": true
   },
   "outputs": [],
   "source": [
    "%matplotlib inline"
   ]
  },
  {
   "cell_type": "code",
   "execution_count": 20,
   "metadata": {
    "collapsed": false
   },
   "outputs": [
    {
     "data": {
      "image/png": "[encoded data removed]",
      "text/plain": [
       "<matplotlib.figure.Figure at 0x5158ed0>"
      ]
     },
     "metadata": {},
     "output_type": "display_data"
    }
   ],
   "source": [
    "plt.figure(1,figsize=(6,8))\n",
    "plt.plot(taux*Lx,yh,linewidth=2.0,color='r',label=r'$\\tao_{w}$')\n",
    "plt.plot(bfr12_yh,yh,linewidth=1.5,color='b',alpha=0.4,label=r'$\\tao_{b}$')\n",
    "plt.plot(pbo12_yh,yh,linewidth=1.5,color='k',alpha=0.4,label='TFS')\n",
    "plt.xlim(-1e+6,1e+6)\n",
    "plt.ylim(-1250,1250)\n",
    "plt.gca().set_xticks(np.arange(-8e+5, 8e+5 + 4e+5, 4e+5))\n",
    "plt.gca().set_xticklabels(['-8','-4','0','4','8'])\n",
    "plt.gca().set_yticks(np.arange(-1250,1250 + 500,500))\n",
    "plt.gca().set_yticklabels(['0','500','1000','1500','2000','2500'])\n",
    "plt.xticks(fontsize=16)\n",
    "plt.yticks(fontsize=16)\n",
    "plt.xlabel('Zonal force balance (10$^{5}$ N m$^{-1}$)',fontsize=16)\n",
    "plt.ylabel('Y (km)',fontsize=16)\n",
    "plt.show()"
   ]
  },
  {
   "cell_type": "markdown",
   "metadata": {},
   "source": [
    "Check results"
   ]
  },
  {
   "cell_type": "code",
   "execution_count": 21,
   "metadata": {
    "collapsed": false
   },
   "outputs": [
    {
     "name": "stdout",
     "output_type": "stream",
     "text": [
      "400350.551152\n"
     ]
    }
   ],
   "source": [
    "print np.nanmax(pbo12_yh)"
   ]
  },
  {
   "cell_type": "code",
   "execution_count": 22,
   "metadata": {
    "collapsed": false
   },
   "outputs": [
    {
     "name": "stdout",
     "output_type": "stream",
     "text": [
      "-300763451.974\n"
     ]
    }
   ],
   "source": [
    "print np.nanmin(pbo12_yh)"
   ]
  },
  {
   "cell_type": "code",
   "execution_count": 23,
   "metadata": {
    "collapsed": false
   },
   "outputs": [
    {
     "name": "stdout",
     "output_type": "stream",
     "text": [
      "-41121611.1213\n"
     ]
    }
   ],
   "source": [
    "print np.nanmean(pbo12_yh)"
   ]
  },
  {
   "cell_type": "code",
   "execution_count": null,
   "metadata": {
    "collapsed": true
   },
   "outputs": [],
   "source": []
  }
 ],
 "metadata": {
  "kernelspec": {
   "display_name": "Python 2",
   "language": "python",
   "name": "python2"
  },
  "language_info": {
   "codemirror_mode": {
    "name": "ipython",
    "version": 2
   },
   "file_extension": ".py",
   "mimetype": "text/x-python",
   "name": "python",
   "nbconvert_exporter": "python",
   "pygments_lexer": "ipython2",
   "version": "2.7.6"
  }
 },
 "nbformat": 4,
 "nbformat_minor": 0
}
