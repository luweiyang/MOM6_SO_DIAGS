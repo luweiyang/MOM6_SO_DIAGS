{
 "cells": [
  {
   "cell_type": "markdown",
   "metadata": {},
   "source": [
    "# MOC in the depth space - the Eulerian-mean streamfunction"
   ]
  },
  {
   "cell_type": "markdown",
   "metadata": {},
   "source": [
    "This notebook is converted from plt_vh_z.py, which calculates the Eulerian-mean streamfunction using the meridional velocity and layer thickness in the depth space."
   ]
  },
  {
   "cell_type": "markdown",
   "metadata": {},
   "source": [
    "##Last updated 9 October 2017."
   ]
  },
  {
   "cell_type": "code",
   "execution_count": 1,
   "metadata": {
    "collapsed": true
   },
   "outputs": [],
   "source": [
    "import numpy as np\n",
    "import netCDF4 as nc\n",
    "import matplotlib.pyplot as plt"
   ]
  },
  {
   "cell_type": "markdown",
   "metadata": {},
   "source": [
    "v45 - wdx1: output017 (y50)  wdx2: output024 (y65)  wdx3: output031 (y80) \n",
    "\n",
    "v57 - wdx1: output013 (y50)  wdx2: output020 (y65)  wdx3: output027 (y80)\n",
    "\n",
    "v59 - wdx1: output013 (y50)  wdx2: output020 (y65)  wdx3: output027 (y80)"
   ]
  },
  {
   "cell_type": "code",
   "execution_count": 2,
   "metadata": {
    "collapsed": true
   },
   "outputs": [],
   "source": [
    "# read v\n",
    "data  = nc.Dataset('/short/v45/lxy581/mom6/archive/so_mom6_v45/output031/prog.nc','r')\n",
    "# read layer thicknesses\n",
    "coord = nc.Dataset('/short/v45/lxy581/mom6/archive/so_mom6_v45/output031/Vertical_coordinate.nc','r')"
   ]
  },
  {
   "cell_type": "code",
   "execution_count": 3,
   "metadata": {
    "collapsed": true
   },
   "outputs": [],
   "source": [
    "# horizontal resolution in km\n",
    "dx = 10."
   ]
  },
  {
   "cell_type": "code",
   "execution_count": 4,
   "metadata": {
    "collapsed": true
   },
   "outputs": [],
   "source": [
    "xh = data.variables['xh'][:]\n",
    "yh = data.variables['yh'][:]   \n",
    "yq = data.variables['yq'][:]\n",
    "zl = data.variables['zl'][:]\n",
    "t  = data.variables['Time'][:]"
   ]
  },
  {
   "cell_type": "code",
   "execution_count": 5,
   "metadata": {
    "collapsed": false
   },
   "outputs": [],
   "source": [
    "nz = np.size(zl)\n",
    "nx = np.size(xh)\n",
    "ny = np.size(yq)\n",
    "nt = np.size(t)"
   ]
  },
  {
   "cell_type": "code",
   "execution_count": 6,
   "metadata": {
    "collapsed": true
   },
   "outputs": [],
   "source": [
    "# layer thicknesses in m\n",
    "ds = coord.variables['ds'][:]\n",
    "# create a numpy array repetitive of ds\n",
    "ds2 = np.full((nz,ny),np.nan)\n",
    "for j in xrange(0,ny):\n",
    "    ds2[:,j]=ds[:]\n",
    "\n",
    "dx2 = np.full((nz,ny),dx)"
   ]
  },
  {
   "cell_type": "markdown",
   "metadata": {},
   "source": [
    "Zonal-mean temperature field - temp2"
   ]
  },
  {
   "cell_type": "code",
   "execution_count": 7,
   "metadata": {
    "collapsed": true
   },
   "outputs": [],
   "source": [
    "temp3 = np.zeros((1,nz,ny))\n",
    "tempx = np.full((1,nz,ny),np.nan)\n",
    "\n",
    "for k in xrange(0,nt):\n",
    "    #print k\n",
    "    temp  = data.variables['temp'][k,:,:,:]\n",
    "    tempx[0,:,:] = np.nanmean(temp,axis=-1) # zonal-mean\n",
    "    temp3 = np.append(temp3,tempx,0)\n",
    "\n",
    "temp3 = temp3[1:,:,:]\n",
    "temp2 = np.nanmean(temp3,axis=0)"
   ]
  },
  {
   "cell_type": "markdown",
   "metadata": {},
   "source": [
    "Zonal-mean density field - rho2"
   ]
  },
  {
   "cell_type": "code",
   "execution_count": 8,
   "metadata": {
    "collapsed": true
   },
   "outputs": [],
   "source": [
    "rho3 = np.zeros((1,nz,ny))\n",
    "rhox = np.full((1,nz,ny),np.nan)\n",
    "\n",
    "for k in xrange(0,nt):\n",
    "    #print k\n",
    "    rho  = data.variables['rhoinsitu'][k,:,:,:]\n",
    "    rhox[0,:,:] = np.nanmean(rho,axis=-1) # zonal-mean\n",
    "    rho3 = np.append(rho3,rhox,0)\n",
    "\n",
    "rho3 = rho3[1:,:,:]\n",
    "rho2 = np.nanmean(rho3,axis=0)"
   ]
  },
  {
   "cell_type": "code",
   "execution_count": 9,
   "metadata": {
    "collapsed": false
   },
   "outputs": [
    {
     "name": "stderr",
     "output_type": "stream",
     "text": [
      "/apps/python/2.7.6/lib/python2.7/site-packages/numpy/lib/nanfunctions.py:514: FutureWarning: In Numpy 1.9 the sum along empty slices will be zero.\n",
      "  FutureWarning)\n",
      "/apps/python/2.7.6/lib/python2.7/site-packages/numpy/lib/nanfunctions.py:607: RuntimeWarning: Mean of empty slice\n",
      "  warnings.warn(\"Mean of empty slice\", RuntimeWarning)\n"
     ]
    }
   ],
   "source": [
    "vh = np.zeros((1,nz,ny))\n",
    "vht= np.full((1,nz,ny),np.nan)\n",
    "\n",
    "for k in xrange(0,nt):\n",
    "    #print k\n",
    "    v  = data.variables['v'][k,:,:,:]   # 3D meridional velocity\n",
    "    v  = v.filled(np.nan)\n",
    "    vz = np.nansum(v,axis=2)            # zonal-sum velocity vz(z,y)\n",
    "    mt = vz*ds2*dx2/1.e+3               # meridional transport mt(z,y) in Sv\n",
    "\n",
    "    vht[0,:,:] = mt\n",
    "    vh = np.append(vh,vht,0)\n",
    "\n",
    "vh = vh[1:,:,:]\n",
    "vhm = np.nanmean(vh,axis=0)"
   ]
  },
  {
   "cell_type": "code",
   "execution_count": 10,
   "metadata": {
    "collapsed": true
   },
   "outputs": [],
   "source": [
    "# vertical cumulative integral from the surface\n",
    "#vhmc= np.cumsum(vhm,axis=0)    \n",
    "# vertical cumulative integral from the bottom\n",
    "vhmc = vhm[::-1,...].cumsum(axis=0)[::-1,...] "
   ]
  },
  {
   "cell_type": "code",
   "execution_count": 11,
   "metadata": {
    "collapsed": true
   },
   "outputs": [],
   "source": [
    "%matplotlib inline"
   ]
  },
  {
   "cell_type": "code",
   "execution_count": 21,
   "metadata": {
    "collapsed": false
   },
   "outputs": [
    {
     "data": {
      "image/png": "[encoded data removed]",
      "text/plain": [
       "<matplotlib.figure.Figure at 0xb813b90>"
      ]
     },
     "metadata": {},
     "output_type": "display_data"
    }
   ],
   "source": [
    "plt.figure(1,figsize=(8,5))\n",
    "\n",
    "t_level = np.arange(0,12+1,1)\n",
    "t_label = np.arange(2,8+2,2)\n",
    "r_level = np.arange(1035.5,1037.0,0.25)\n",
    "vh_level = np.arange(-12,12 + 1.0,1.0)\n",
    "vh_ticks = np.arange(-12,12 + 6.0,6.0)\n",
    "\n",
    "pcf = plt.contourf(yq,zl,vhmc,cmap=plt.cm.bwr,levels=vh_level,extend='both')\n",
    "pc  = plt.contour(yh,zl,rho2,colors='k',levels=r_level,extend='both')\n",
    "manual_locations = [(1000,50),(1000,500),(500,1200)]\n",
    "plt.clabel(pc,r_level[::2],inline=1,fontsize=12,manual=manual_locations)\n",
    "plt.plot([1150,1150],[0,4000],linewidth=2.0,linestyle='--',color='k')\n",
    "cb = plt.colorbar(pcf,ticks=vh_ticks)\n",
    "plt.gca().invert_yaxis()\n",
    "plt.gca().set_xticks(np.arange(-1250,1250 + 500,500))\n",
    "plt.gca().set_xticklabels(['0','500','1000','1500','2000','2500'])\n",
    "plt.gca().set_yticks(np.arange(0,4000 + 1000,1000))\n",
    "plt.gca().set_yticklabels(['0','1','2','3','4'])\n",
    "plt.gca().set_position([0.15,0.2,0.65,0.6])\n",
    "cb.ax.set_position([0.85,0.2,0.03,0.6])\n",
    "cb.set_label('Meridional transport (Sv)',y=0.5,fontsize=16)\n",
    "cb.ax.tick_params(labelsize=16)\n",
    "plt.xlabel('Y (km)',fontsize=16)\n",
    "plt.ylabel('Depth (km)',fontsize=16)\n",
    "plt.xticks(fontsize=16)\n",
    "plt.yticks(fontsize=16)\n",
    "\n",
    "#plt.savefig('/short/v45/lxy581/mom6/diag/v45_vh_z_y80_wdx3.png',dpi=600)\n",
    "\n",
    "plt.show()"
   ]
  },
  {
   "cell_type": "code",
   "execution_count": null,
   "metadata": {
    "collapsed": true
   },
   "outputs": [],
   "source": []
  }
 ],
 "metadata": {
  "kernelspec": {
   "display_name": "Python 2",
   "language": "python",
   "name": "python2"
  },
  "language_info": {
   "codemirror_mode": {
    "name": "ipython",
    "version": 2
   },
   "file_extension": ".py",
   "mimetype": "text/x-python",
   "name": "python",
   "nbconvert_exporter": "python",
   "pygments_lexer": "ipython2",
   "version": "2.7.6"
  }
 },
 "nbformat": 4,
 "nbformat_minor": 0
}
